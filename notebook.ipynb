{
 "cells": [
  {
   "cell_type": "code",
   "execution_count": null,
   "metadata": {},
   "outputs": [],
   "source": [
    "from PyPDF2 import PdfFileReader\n",
    "from pathlib import Path\n",
    "\n",
    "files = [\n",
    "    Path(r\"C:\\Projetos\\Python\\juggler\\200_210.pdf\"),\n",
    "    Path(r\"C:\\Projetos\\Python\\juggler\\OS_498677_3_V3.pdf\"),\n",
    "    Path(r\"C:\\Projetos\\Python\\juggler\\papel_a3.pdf\"),\n",
    "    Path(r\"C:\\Projetos\\Python\\juggler\\rolor.pdf\"),\n",
    "]\n",
    "\n",
    "for arquivo in files:\n",
    "    with open(arquivo, \"rb\") as f:\n",
    "        pdf = PdfFileReader(f)\n",
    "        pagina = pdf.pages[0]\n",
    "        mb = pagina.mediabox\n",
    "        res = 72.0 / 25.4\n",
    "        h = float(mb.height) / res\n",
    "        w = float(mb.width) / res\n",
    "        print(f\"Largura {w:.2f} X Altura {h:.2f}\")"
   ]
  },
  {
   "cell_type": "code",
   "execution_count": 6,
   "metadata": {},
   "outputs": [
    {
     "ename": "AttributeError",
     "evalue": "can't set attribute 'name'",
     "output_type": "error",
     "traceback": [
      "\u001b[1;31m---------------------------------------------------------------------------\u001b[0m",
      "\u001b[1;31mAttributeError\u001b[0m                            Traceback (most recent call last)",
      "\u001b[1;32mc:\\Projetos\\Python\\juggler\\notebook.ipynb Cell 2'\u001b[0m in \u001b[0;36m<cell line: 3>\u001b[1;34m()\u001b[0m\n\u001b[0;32m      <a href='vscode-notebook-cell:/c%3A/Projetos/Python/juggler/notebook.ipynb#ch0000001?line=0'>1</a>\u001b[0m \u001b[39mfrom\u001b[39;00m \u001b[39mpathlib\u001b[39;00m \u001b[39mimport\u001b[39;00m Path\n\u001b[0;32m      <a href='vscode-notebook-cell:/c%3A/Projetos/Python/juggler/notebook.ipynb#ch0000001?line=1'>2</a>\u001b[0m arquivo \u001b[39m=\u001b[39m Path(\u001b[39mr\u001b[39m\u001b[39m\"\u001b[39m\u001b[39mC:\u001b[39m\u001b[39m\\\u001b[39m\u001b[39mProjetos\u001b[39m\u001b[39m\\\u001b[39m\u001b[39mPython\u001b[39m\u001b[39m\\\u001b[39m\u001b[39mjuggler\u001b[39m\u001b[39m\\\u001b[39m\u001b[39marquivos\u001b[39m\u001b[39m\\\u001b[39m\u001b[39mdigitais\u001b[39m\u001b[39m\\\u001b[39m\u001b[39m498677 V3 Prova Digital.pdf\u001b[39m\u001b[39m\"\u001b[39m)\n\u001b[1;32m----> <a href='vscode-notebook-cell:/c%3A/Projetos/Python/juggler/notebook.ipynb#ch0000001?line=2'>3</a>\u001b[0m arquivo\u001b[39m.\u001b[39mname \u001b[39m=\u001b[39m arquivo\u001b[39m.\u001b[39mstem \u001b[39m+\u001b[39m \u001b[39m\"\u001b[39m\u001b[39m_teste\u001b[39m\u001b[39m\"\u001b[39m \u001b[39m+\u001b[39m arquivo\u001b[39m.\u001b[39msuffix\n",
      "\u001b[1;31mAttributeError\u001b[0m: can't set attribute 'name'"
     ]
    }
   ],
   "source": [
    "from pathlib import Path\n",
    "arquivo = Path(r\"C:\\Projetos\\Python\\juggler\\arquivos\\digitais\\498677 V3 Prova Digital.pdf\")\n",
    "arquivo.name = arquivo.stem + \"_teste\" + arquivo.suffix"
   ]
  }
 ],
 "metadata": {
  "kernelspec": {
   "display_name": "Python 3.10.5 ('venv': venv)",
   "language": "python",
   "name": "python3"
  },
  "language_info": {
   "codemirror_mode": {
    "name": "ipython",
    "version": 3
   },
   "file_extension": ".py",
   "mimetype": "text/x-python",
   "name": "python",
   "nbconvert_exporter": "python",
   "pygments_lexer": "ipython3",
   "version": "3.10.5"
  },
  "orig_nbformat": 4,
  "vscode": {
   "interpreter": {
    "hash": "5944839df8f10f506988e56c551e612b1a7d07f3466526ca674fc5accbbf2ff2"
   }
  }
 },
 "nbformat": 4,
 "nbformat_minor": 2
}
