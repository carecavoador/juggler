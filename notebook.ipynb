{
 "cells": [
  {
   "cell_type": "code",
   "execution_count": 17,
   "metadata": {},
   "outputs": [
    {
     "name": "stdout",
     "output_type": "stream",
     "text": [
      "Largura 20.00 X Altura 21.00\n"
     ]
    }
   ],
   "source": [
    "from PyPDF2 import PdfFileReader\n",
    "\n",
    "arquivo = r\"200_210.pdf\"\n",
    "\n",
    "with open(arquivo, \"rb\") as f:\n",
    "    pdf = PdfFileReader(f)\n",
    "    pagina = pdf.pages[0]\n",
    "    mb = pagina.mediabox\n",
    "    res = 72.0 / 2.54\n",
    "    h = float(mb.height) / res\n",
    "    w = float(mb.width) / res\n",
    "    print(f\"Largura {w:.2f} X Altura {h:.2f}\")"
   ]
  }
 ],
 "metadata": {
  "kernelspec": {
   "display_name": "Python 3.9.6 64-bit",
   "language": "python",
   "name": "python3"
  },
  "language_info": {
   "codemirror_mode": {
    "name": "ipython",
    "version": 3
   },
   "file_extension": ".py",
   "mimetype": "text/x-python",
   "name": "python",
   "nbconvert_exporter": "python",
   "pygments_lexer": "ipython3",
   "version": "3.9.6"
  },
  "orig_nbformat": 4,
  "vscode": {
   "interpreter": {
    "hash": "0442cd0bdd6237b21233d2e8ac4e36fd6e45ee85210cb3ecf2874ddd16aeed37"
   }
  }
 },
 "nbformat": 4,
 "nbformat_minor": 2
}
